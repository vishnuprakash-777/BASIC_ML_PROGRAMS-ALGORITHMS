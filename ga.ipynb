{
 "cells": [
  {
   "cell_type": "code",
   "execution_count": 104,
   "metadata": {},
   "outputs": [],
   "source": [
    "import random"
   ]
  },
  {
   "cell_type": "code",
   "execution_count": 105,
   "metadata": {},
   "outputs": [],
   "source": [
    "target='101010101011'\n",
    "population_size=100\n",
    "mutation_rate=0.1\n",
    "genrations=100"
   ]
  },
  {
   "cell_type": "code",
   "execution_count": 106,
   "metadata": {},
   "outputs": [],
   "source": [
    "def create_population(population_size, string_len):\n",
    "    return [\"\".join(random.choice(\"01\") for _ in range(string_len)) for _ in range(population_size)]"
   ]
  },
  {
   "cell_type": "code",
   "execution_count": 107,
   "metadata": {},
   "outputs": [],
   "source": [
    "\n",
    "def fitness(x , target):\n",
    "    return sum( 1 for a, b in zip(x, target) if a==b)"
   ]
  },
  {
   "cell_type": "code",
   "execution_count": 108,
   "metadata": {},
   "outputs": [],
   "source": [
    "def mutation(individual, mutation_rate):\n",
    "    mutated_individual=\"\".join(bit if random.random() > mutation_rate else random.choice('01') for bit in individual)\n",
    "    return mutated_individual"
   ]
  },
  {
   "cell_type": "code",
   "execution_count": 109,
   "metadata": {},
   "outputs": [],
   "source": [
    "def crossover(parent1 , parent2):\n",
    "    split_size = random.randint(1, len(parent1) - 1)\n",
    "    child1 = parent1[:split_size] + parent2[split_size:]\n",
    "    child2 = parent2[:split_size] + parent1[split_size:]\n",
    "    return child1, child2"
   ]
  },
  {
   "cell_type": "code",
   "execution_count": 110,
   "metadata": {},
   "outputs": [],
   "source": [
    "\n",
    "def genetic_algoritm(target, population_size, genrations, mutation_rate):\n",
    "    population = create_population(population_size,len(target))\n",
    "    for genrations in range(genrations):\n",
    "        population=sorted(population,key=lambda x:fitness(x,target),reverse=True)\n",
    "        if fitness(population[0],target) == len(target):\n",
    "            print(f\"Target found at generation {genrations+1}\")\n",
    "            break\n",
    "        new_population=population[:2]\n",
    "\n",
    "        while len(new_population) < population_size:\n",
    "            parent1,parent2=random.choices(population[:10],k=2)\n",
    "            child1,child2=crossover(parent1,parent2)\n",
    "            child1=mutation(child1,mutation_rate)\n",
    "            child2=mutation(child2,mutation_rate)\n",
    "            new_population.extend([child1,child2])\n",
    "        population=new_population\n",
    "\n",
    "    best_individual=max(new_population,key=lambda x:fitness(x,target))\n",
    "    print(\"Best Individual \",best_individual)\n",
    "    print(\"Fitness :\",fitness(best_individual,target))\n"
   ]
  },
  {
   "cell_type": "code",
   "execution_count": 111,
   "metadata": {},
   "outputs": [
    {
     "name": "stdout",
     "output_type": "stream",
     "text": [
      "Target found at generation 3\n",
      "Best Individual  101010101011\n",
      "Fitness : 12\n"
     ]
    }
   ],
   "source": [
    "genetic_algoritm(target, population_size, genrations, mutation_rate)"
   ]
  }
 ],
 "metadata": {
  "kernelspec": {
   "display_name": "Python 3",
   "language": "python",
   "name": "python3"
  },
  "language_info": {
   "codemirror_mode": {
    "name": "ipython",
    "version": 3
   },
   "file_extension": ".py",
   "mimetype": "text/x-python",
   "name": "python",
   "nbconvert_exporter": "python",
   "pygments_lexer": "ipython3",
   "version": "3.8.10"
  }
 },
 "nbformat": 4,
 "nbformat_minor": 2
}
